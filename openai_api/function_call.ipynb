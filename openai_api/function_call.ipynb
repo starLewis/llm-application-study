{
 "cells": [
  {
   "metadata": {},
   "cell_type": "markdown",
   "source": "# 基于 Chat Completions API 实现外部函数调用",
   "id": "f2a5e5fce1a37614"
  },
  {
   "metadata": {
    "ExecuteTime": {
     "end_time": "2024-07-10T09:53:19.893492Z",
     "start_time": "2024-07-10T09:53:19.880420Z"
    }
   },
   "cell_type": "code",
   "source": [
    "import json\n",
    "import token\n",
    "\n",
    "import requests\n",
    "import os\n",
    "from tenacity import retry, stop_after_attempt, wait_random_exponential\n",
    "from termcolor import colored\n",
    "\n",
    "GPT_MODEL = \"gpt-3.5-turbo\""
   ],
   "id": "fafc872d60c27490",
   "outputs": [],
   "execution_count": 45
  },
  {
   "metadata": {},
   "cell_type": "markdown",
   "source": "## 定义工具函数",
   "id": "1c0706a24486fa7"
  },
  {
   "metadata": {
    "ExecuteTime": {
     "end_time": "2024-07-10T09:53:20.224560Z",
     "start_time": "2024-07-10T09:53:20.201831Z"
    }
   },
   "cell_type": "code",
   "source": [
    "@retry(wait=wait_random_exponential(multiplier=1, max=40), stop=stop_after_attempt(3))\n",
    "def chat_completion_request(messages, functions = None, function_call = None, model = GPT_MODEL):\n",
    "    headers = {\n",
    "        'Content-Type': 'application/json',\n",
    "        'Authorization': 'Bearer ' + os.getenv(\"OPENAI_API_KEY\"),\n",
    "    }\n",
    "    \n",
    "    json_data = {\"model\": model, \"messages\": messages}\n",
    "    \n",
    "    if functions is not None:\n",
    "        json_data.update({\"functions\": functions})\n",
    "        \n",
    "    if function_call is not None:\n",
    "        json_data.update({\"function_call\": function_call})\n",
    "        \n",
    "    try:\n",
    "        response = requests.post(\n",
    "            \"https://api.openai.com/v1/chat/completions\",\n",
    "            headers=headers,\n",
    "            json=json_data,\n",
    "        )\n",
    "        \n",
    "        return response\n",
    "    except Exception as e:\n",
    "        print(\"Unable to generate chat completion request\")\n",
    "        print(f\"Exception: {e}\")\n",
    "        return e\n",
    "        "
   ],
   "id": "fd9921c88024214a",
   "outputs": [],
   "execution_count": 46
  },
  {
   "metadata": {
    "ExecuteTime": {
     "end_time": "2024-07-10T10:29:47.811268Z",
     "start_time": "2024-07-10T10:29:47.796267Z"
    }
   },
   "cell_type": "code",
   "source": [
    "# 定义一个颜色打印消息对话内容\n",
    "def pretty_print_conversation(messages):\n",
    "    role_to_color = {\n",
    "        \"system\": \"red\",\n",
    "        \"user\": \"green\",\n",
    "        \"assistant\": \"blue\",\n",
    "        \"function\": \"magenta\"\n",
    "    }\n",
    "    \n",
    "    for message in messages:\n",
    "        if message[\"role\"] == \"system\":\n",
    "            print(colored(f\"system: {message['content']}\\n\", role_to_color[message[\"role\"]]))\n",
    "            \n",
    "        elif message[\"role\"] == \"user\":\n",
    "            print(colored(f\"user: {message['content']}\\n\", role_to_color[message[\"role\"]]))\n",
    "            \n",
    "        elif message[\"role\"] == \"assistant\" and message.get(\"function_call\"):\n",
    "            print(colored(f\"assistant[function_call]: {message['function_call']}\\n\", role_to_color[message[\"role\"]]))\n",
    "            \n",
    "        elif message[\"role\"] == \"assistant\" and not message.get(\"function_call\"):\n",
    "            print(colored(f\"assistant[content]: {message['content']}\\n\", role_to_color[message[\"role\"]]))\n",
    "            \n",
    "        elif message[\"role\"] == \"function\":\n",
    "            print(colored(f\"function: ({message['name']}): {message['content']}\\n\", role_to_color[message[\"role\"]]))"
   ],
   "id": "f921bfad84e537c4",
   "outputs": [],
   "execution_count": 74
  },
  {
   "metadata": {
    "ExecuteTime": {
     "end_time": "2024-07-10T10:29:47.874799Z",
     "start_time": "2024-07-10T10:29:47.849292Z"
    }
   },
   "cell_type": "code",
   "source": [
    "# 定义functions\n",
    "functions = [\n",
    "    {\n",
    "        \"name\": \"get_current_weather\",\n",
    "        \"description\": \"Get current weather conditions\",\n",
    "        \"parameters\": {\n",
    "            \"type\": \"object\",\n",
    "            \"properties\": {\n",
    "                \"location\": { # 地点\n",
    "                    \"type\": \"string\",\n",
    "                    \"description\": \"Location of the weather conditions, the city and country, such as 'New York'\",\n",
    "                },\n",
    "                \"format\":{ # 温度\n",
    "                    \"type\": \"string\",\n",
    "                    \"enum\": [\"celsius\", \"fahrenheit\"],\n",
    "                    \"description\": \"The temperature unit to use. Infer this from the users location.\",\n",
    "                }\n",
    "            },\n",
    "            \"required\": [\"location\", \"format\"]\n",
    "        }\n",
    "    },\n",
    "    {\n",
    "        \"name\": \"get_n_day_weather_forecast\",\n",
    "        \"description\": \"Get an N-day weather forecast\",\n",
    "        \"parameters\": {\n",
    "            \"type\": \"object\",\n",
    "            \"properties\": {\n",
    "                \"location\": { \n",
    "                    \"type\": \"string\",\n",
    "                    \"description\": \"Location of the weather forecast, such as 'New York'\",\n",
    "                },\n",
    "                \"format\":{ \n",
    "                    \"type\": \"string\",\n",
    "                    \"enum\": [\"celsius\", \"fahrenheit\"],\n",
    "                    \"description\": \"The temperature unit to use. Infer this from the users location.\",\n",
    "                },\n",
    "                \"num_days\":{ \n",
    "                    \"type\": \"integer\",\n",
    "                    \"description\": \"The number of days to forecast today.\",\n",
    "                }\n",
    "            }\n",
    "        },\n",
    "        \"required\": [\"location\", \"format\", \"num_days\"]\n",
    "    }\n",
    "]"
   ],
   "id": "9c15e7d9708dd60c",
   "outputs": [],
   "execution_count": 75
  },
  {
   "metadata": {
    "ExecuteTime": {
     "end_time": "2024-07-10T09:53:21.703891Z",
     "start_time": "2024-07-10T09:53:20.802525Z"
    }
   },
   "cell_type": "code",
   "source": [
    "messages = []\n",
    "messages.append(\n",
    "    {\n",
    "        \"role\": \"system\",\n",
    "        \"content\": \"不要对函数中要插入的值做出假设。如果用户的请求含糊不清，请求进一步澄清\"\n",
    "    }\n",
    ")\n",
    "\n",
    "messages.append(\n",
    "    {\n",
    "        \"role\": \"user\",\n",
    "        \"content\": \"今天天气如何？\"\n",
    "    }\n",
    ")\n",
    "\n",
    "chat_response = chat_completion_request(\n",
    "    messages, functions = functions)\n",
    "\n",
    "message = chat_response.json()[\"choices\"][0][\"message\"]\n",
    "messages.append(message)\n",
    "pretty_print_conversation(messages)"
   ],
   "id": "dd385bbb10f55ba",
   "outputs": [
    {
     "name": "stdout",
     "output_type": "stream",
     "text": [
      "\u001B[31msystem: 不要对函数中要插入的值做出假设。如果用户的请求含糊不清，请求进一步澄清\n",
      "\u001B[0m\n",
      "\u001B[32muser: 今天天气如何？\n",
      "\u001B[0m\n",
      "\u001B[34massistant[content]: 请问您需要查询哪个城市的天气？\n",
      "\u001B[0m\n"
     ]
    }
   ],
   "execution_count": 49
  },
  {
   "metadata": {
    "ExecuteTime": {
     "end_time": "2024-07-10T09:53:23.589795Z",
     "start_time": "2024-07-10T09:53:21.713812Z"
    }
   },
   "cell_type": "code",
   "source": [
    "messages.append(\n",
    "    {\n",
    "        \"role\": \"user\",\n",
    "        \"content\": \"我在中国的上海市\"\n",
    "    }\n",
    ")\n",
    "\n",
    "chat_response = chat_completion_request(messages, functions = functions)\n",
    "message = chat_response.json()[\"choices\"][0][\"message\"]\n",
    "messages.append(message)\n",
    "pretty_print_conversation(messages)"
   ],
   "id": "f6deafc16110346e",
   "outputs": [
    {
     "name": "stdout",
     "output_type": "stream",
     "text": [
      "\u001B[31msystem: 不要对函数中要插入的值做出假设。如果用户的请求含糊不清，请求进一步澄清\n",
      "\u001B[0m\n",
      "\u001B[32muser: 今天天气如何？\n",
      "\u001B[0m\n",
      "\u001B[34massistant[content]: 请问您需要查询哪个城市的天气？\n",
      "\u001B[0m\n",
      "\u001B[32muser: 我在中国的上海市\n",
      "\u001B[0m\n",
      "\u001B[34massistant[function_call]: {'name': 'get_current_weather', 'arguments': '{\"location\":\"Shanghai\",\"format\":\"celsius\"}'}\n",
      "\u001B[0m\n"
     ]
    }
   ],
   "execution_count": 50
  },
  {
   "metadata": {
    "ExecuteTime": {
     "end_time": "2024-07-10T09:53:25.218934Z",
     "start_time": "2024-07-10T09:53:23.591794Z"
    }
   },
   "cell_type": "code",
   "source": [
    "messages = []\n",
    "messages.append(\n",
    "    {\n",
    "        \"role\": \"system\",\n",
    "        \"content\": \"不要对函数中要插入的值做出假设。如果用户的请求含糊不清，请求进一步澄清\"\n",
    "    }\n",
    ")\n",
    "\n",
    "messages.append(\n",
    "    {\n",
    "        \"role\": \"user\",\n",
    "        \"content\": \"请向我提供苏州今天的天气(使用Celsius)？\"\n",
    "    }\n",
    ")\n",
    "\n",
    "chat_response = chat_completion_request(\n",
    "    messages, functions = functions)\n",
    "\n",
    "message = chat_response.json()[\"choices\"][0][\"message\"]\n",
    "messages.append(message)\n",
    "pretty_print_conversation(messages)"
   ],
   "id": "2f19c52aaa7ae452",
   "outputs": [
    {
     "name": "stdout",
     "output_type": "stream",
     "text": [
      "\u001B[31msystem: 不要对函数中要插入的值做出假设。如果用户的请求含糊不清，请求进一步澄清\n",
      "\u001B[0m\n",
      "\u001B[32muser: 请向我提供苏州今天的天气(使用Celsius)？\n",
      "\u001B[0m\n",
      "\u001B[34massistant[function_call]: {'name': 'get_current_weather', 'arguments': '{\"location\":\"Suzhou\",\"format\":\"celsius\"}'}\n",
      "\u001B[0m\n"
     ]
    }
   ],
   "execution_count": 51
  },
  {
   "metadata": {
    "ExecuteTime": {
     "end_time": "2024-07-10T09:54:00.018371Z",
     "start_time": "2024-07-10T09:53:58.709293Z"
    }
   },
   "cell_type": "code",
   "source": [
    "# 初始化一个空的messages列表\n",
    "messages = []\n",
    "\n",
    "# 向messages列表添加一条系统角色的消息，要求不做关于函数参数值的假设，如果用户的请求模糊，应该寻求澄清\n",
    "messages.append({\n",
    "    \"role\": \"system\",  # 消息的角色是\"system\"\n",
    "    \"content\": \"Don't make assumptions about what values to plug into functions. Ask for clarification if a user request is ambiguous.\"\n",
    "})\n",
    "\n",
    "# 向messages列表添加一条用户角色的消息，用户询问在未来x天内苏格兰格拉斯哥的天气情况\n",
    "messages.append({\n",
    "    \"role\": \"user\",  # 消息的角色是\"user\"\n",
    "    \"content\": \"what is the weather going to be like in Shanghai, China over the next x days\"\n",
    "})\n",
    "\n",
    "# 使用定义的chat_completion_request函数发起一个请求，传入messages和functions作为参数\n",
    "chat_response = chat_completion_request(\n",
    "    messages, functions=functions\n",
    ")\n",
    "\n",
    "# 解析返回的JSON数据，获取助手的回复消息\n",
    "assistant_message = chat_response.json()[\"choices\"][0][\"message\"]\n",
    "\n",
    "# 将助手的回复消息添加到messages列表中\n",
    "messages.append(assistant_message)\n",
    "\n",
    "# 打印助手的回复消息\n",
    "pretty_print_conversation(messages)"
   ],
   "id": "c06afd615d114f5f",
   "outputs": [
    {
     "name": "stdout",
     "output_type": "stream",
     "text": [
      "\u001B[31msystem: Don't make assumptions about what values to plug into functions. Ask for clarification if a user request is ambiguous.\n",
      "\u001B[0m\n",
      "\u001B[32muser: what is the weather going to be like in Shanghai, China over the next x days\n",
      "\u001B[0m\n",
      "\u001B[34massistant[function_call]: {'name': 'get_n_day_weather_forecast', 'arguments': '{\"location\":\"Shanghai, China\"}'}\n",
      "\u001B[0m\n"
     ]
    }
   ],
   "execution_count": 52
  },
  {
   "metadata": {
    "ExecuteTime": {
     "end_time": "2024-07-10T09:56:37.677989Z",
     "start_time": "2024-07-10T09:56:36.453831Z"
    }
   },
   "cell_type": "code",
   "source": [
    "# 创建另一个空的消息列表\n",
    "messages = []\n",
    "\n",
    "# 添加系统角色的消息\n",
    "messages.append({\n",
    "    \"role\": \"system\",  # 角色为系统\n",
    "    \"content\": \"Don't make assumptions about what values to plug into functions. Ask for clarification if a user request is ambiguous.\"\n",
    "})\n",
    "\n",
    "# 添加用户角色的消息\n",
    "messages.append({\n",
    "    \"role\": \"user\",  # 角色为用户\n",
    "    \"content\": \"Give me the current weather (use Celcius) for Toronto, Canada.\"\n",
    "})\n",
    "\n",
    "# 使用定义的chat_completion_request函数发起一个请求，传入messages、functions和function_call作为参数\n",
    "chat_response = chat_completion_request(\n",
    "    messages, functions=functions, function_call=\"none\"\n",
    ")\n",
    "\n",
    "# 解析返回的JSON数据，获取第一个选项\n",
    "assistant_message = chat_response.json()[\"choices\"][0][\"message\"]\n",
    "\n",
    "# 将助手的回复消息添加到messages列表中\n",
    "messages.append(assistant_message)\n",
    "\n",
    "# 打印助手的回复消息\n",
    "pretty_print_conversation(messages)"
   ],
   "id": "e0f59795e18ab50e",
   "outputs": [
    {
     "name": "stdout",
     "output_type": "stream",
     "text": [
      "\u001B[31msystem: Don't make assumptions about what values to plug into functions. Ask for clarification if a user request is ambiguous.\n",
      "\u001B[0m\n",
      "\u001B[32muser: Give me the current weather (use Celcius) for Toronto, Canada.\n",
      "\u001B[0m\n",
      "\u001B[34massistant[content]: Sure! Let me get the current weather conditions in Toronto, Canada using Celsius as the temperature unit.\n",
      "\u001B[0m\n"
     ]
    }
   ],
   "execution_count": 55
  },
  {
   "metadata": {},
   "cell_type": "markdown",
   "source": "## 使用GPT模型执行生成的函数",
   "id": "36afb57314821248"
  },
  {
   "metadata": {
    "ExecuteTime": {
     "end_time": "2024-07-10T10:00:01.324956Z",
     "start_time": "2024-07-10T10:00:01.310244Z"
    }
   },
   "cell_type": "code",
   "source": [
    "import sqlite3\n",
    "conn = sqlite3.connect(\"data/chinook.db\")\n",
    "print(\"DB Opened.\")"
   ],
   "id": "e441ba5c509383fb",
   "outputs": [
    {
     "name": "stdout",
     "output_type": "stream",
     "text": [
      "DB Opened.\n"
     ]
    }
   ],
   "execution_count": 57
  },
  {
   "metadata": {
    "ExecuteTime": {
     "end_time": "2024-07-10T10:10:02.288710Z",
     "start_time": "2024-07-10T10:10:02.268711Z"
    }
   },
   "cell_type": "code",
   "source": [
    "def get_table_names(conn):\n",
    "    table_names = []\n",
    "    tables = conn.execute(\"SELECT name FROM sqlite_master WHERE type='table';\")\n",
    "    \n",
    "    for table in tables.fetchall():\n",
    "        table_names.append(table[0])\n",
    "    return table_names\n",
    "\n",
    "def get_column_names(conn, table_name):\n",
    "    column_names = []\n",
    "    columns = conn.execute(f\"PRAGMA table_info('{table_name}');\").fetchall()\n",
    "    \n",
    "    for col in columns:\n",
    "        column_names.append(col[1])\n",
    "    \n",
    "    return column_names\n",
    "\n",
    "def get_database_info(conn):\n",
    "    table_dicts = []\n",
    "    for table_name in get_table_names(conn):\n",
    "        column_names = get_column_names(conn, table_name)\n",
    "        table_dicts.append({\"table_name\": table_name, \"column_names\": column_names})\n",
    "    \n",
    "    return table_dicts"
   ],
   "id": "573cb63342813822",
   "outputs": [],
   "execution_count": 62
  },
  {
   "metadata": {
    "ExecuteTime": {
     "end_time": "2024-07-10T10:10:11.722884Z",
     "start_time": "2024-07-10T10:10:11.704373Z"
    }
   },
   "cell_type": "code",
   "source": "get_database_info(conn)",
   "id": "a8e122175b4ecb62",
   "outputs": [
    {
     "data": {
      "text/plain": [
       "[{'table_name': 'albums', 'column_names': ['AlbumId', 'Title', 'ArtistId']},\n",
       " {'table_name': 'sqlite_sequence', 'column_names': ['name', 'seq']},\n",
       " {'table_name': 'artists', 'column_names': ['ArtistId', 'Name']},\n",
       " {'table_name': 'customers',\n",
       "  'column_names': ['CustomerId',\n",
       "   'FirstName',\n",
       "   'LastName',\n",
       "   'Company',\n",
       "   'Address',\n",
       "   'City',\n",
       "   'State',\n",
       "   'Country',\n",
       "   'PostalCode',\n",
       "   'Phone',\n",
       "   'Fax',\n",
       "   'Email',\n",
       "   'SupportRepId']},\n",
       " {'table_name': 'employees',\n",
       "  'column_names': ['EmployeeId',\n",
       "   'LastName',\n",
       "   'FirstName',\n",
       "   'Title',\n",
       "   'ReportsTo',\n",
       "   'BirthDate',\n",
       "   'HireDate',\n",
       "   'Address',\n",
       "   'City',\n",
       "   'State',\n",
       "   'Country',\n",
       "   'PostalCode',\n",
       "   'Phone',\n",
       "   'Fax',\n",
       "   'Email']},\n",
       " {'table_name': 'genres', 'column_names': ['GenreId', 'Name']},\n",
       " {'table_name': 'invoices',\n",
       "  'column_names': ['InvoiceId',\n",
       "   'CustomerId',\n",
       "   'InvoiceDate',\n",
       "   'BillingAddress',\n",
       "   'BillingCity',\n",
       "   'BillingState',\n",
       "   'BillingCountry',\n",
       "   'BillingPostalCode',\n",
       "   'Total']},\n",
       " {'table_name': 'invoice_items',\n",
       "  'column_names': ['InvoiceLineId',\n",
       "   'InvoiceId',\n",
       "   'TrackId',\n",
       "   'UnitPrice',\n",
       "   'Quantity']},\n",
       " {'table_name': 'media_types', 'column_names': ['MediaTypeId', 'Name']},\n",
       " {'table_name': 'playlists', 'column_names': ['PlaylistId', 'Name']},\n",
       " {'table_name': 'playlist_track', 'column_names': ['PlaylistId', 'TrackId']},\n",
       " {'table_name': 'tracks',\n",
       "  'column_names': ['TrackId',\n",
       "   'Name',\n",
       "   'AlbumId',\n",
       "   'MediaTypeId',\n",
       "   'GenreId',\n",
       "   'Composer',\n",
       "   'Milliseconds',\n",
       "   'Bytes',\n",
       "   'UnitPrice']},\n",
       " {'table_name': 'sqlite_stat1', 'column_names': ['tbl', 'idx', 'stat']}]"
      ]
     },
     "execution_count": 63,
     "metadata": {},
     "output_type": "execute_result"
    }
   ],
   "execution_count": 63
  },
  {
   "metadata": {
    "ExecuteTime": {
     "end_time": "2024-07-10T10:13:27.146906Z",
     "start_time": "2024-07-10T10:13:27.133043Z"
    }
   },
   "cell_type": "code",
   "source": [
    "db_dict = get_database_info(conn)\n",
    "db_string = \"\\n\".join(\n",
    "    [\n",
    "        f\"Table: {table['table_name']}\\nColunms: {','.join(table['column_names'])}\" for table in db_dict\n",
    "    ]\n",
    ")"
   ],
   "id": "3d8b77b4b794c0df",
   "outputs": [],
   "execution_count": 65
  },
  {
   "metadata": {
    "ExecuteTime": {
     "end_time": "2024-07-10T10:15:27.773603Z",
     "start_time": "2024-07-10T10:15:27.753057Z"
    }
   },
   "cell_type": "code",
   "source": "db_string",
   "id": "d0ecdd0f14c51a3d",
   "outputs": [
    {
     "data": {
      "text/plain": [
       "'Table: albums\\n Colunms: AlbumId,Title,ArtistId\\nTable: sqlite_sequence\\n Colunms: name,seq\\nTable: artists\\n Colunms: ArtistId,Name\\nTable: customers\\n Colunms: CustomerId,FirstName,LastName,Company,Address,City,State,Country,PostalCode,Phone,Fax,Email,SupportRepId\\nTable: employees\\n Colunms: EmployeeId,LastName,FirstName,Title,ReportsTo,BirthDate,HireDate,Address,City,State,Country,PostalCode,Phone,Fax,Email\\nTable: genres\\n Colunms: GenreId,Name\\nTable: invoices\\n Colunms: InvoiceId,CustomerId,InvoiceDate,BillingAddress,BillingCity,BillingState,BillingCountry,BillingPostalCode,Total\\nTable: invoice_items\\n Colunms: InvoiceLineId,InvoiceId,TrackId,UnitPrice,Quantity\\nTable: media_types\\n Colunms: MediaTypeId,Name\\nTable: playlists\\n Colunms: PlaylistId,Name\\nTable: playlist_track\\n Colunms: PlaylistId,TrackId\\nTable: tracks\\n Colunms: TrackId,Name,AlbumId,MediaTypeId,GenreId,Composer,Milliseconds,Bytes,UnitPrice\\nTable: sqlite_stat1\\n Colunms: tbl,idx,stat'"
      ]
     },
     "execution_count": 66,
     "metadata": {},
     "output_type": "execute_result"
    }
   ],
   "execution_count": 66
  },
  {
   "metadata": {
    "ExecuteTime": {
     "end_time": "2024-07-10T10:16:20.868504Z",
     "start_time": "2024-07-10T10:16:20.844506Z"
    }
   },
   "cell_type": "code",
   "source": "db_dict",
   "id": "e9565b942dc6c99",
   "outputs": [
    {
     "data": {
      "text/plain": [
       "[{'table_name': 'albums', 'column_names': ['AlbumId', 'Title', 'ArtistId']},\n",
       " {'table_name': 'sqlite_sequence', 'column_names': ['name', 'seq']},\n",
       " {'table_name': 'artists', 'column_names': ['ArtistId', 'Name']},\n",
       " {'table_name': 'customers',\n",
       "  'column_names': ['CustomerId',\n",
       "   'FirstName',\n",
       "   'LastName',\n",
       "   'Company',\n",
       "   'Address',\n",
       "   'City',\n",
       "   'State',\n",
       "   'Country',\n",
       "   'PostalCode',\n",
       "   'Phone',\n",
       "   'Fax',\n",
       "   'Email',\n",
       "   'SupportRepId']},\n",
       " {'table_name': 'employees',\n",
       "  'column_names': ['EmployeeId',\n",
       "   'LastName',\n",
       "   'FirstName',\n",
       "   'Title',\n",
       "   'ReportsTo',\n",
       "   'BirthDate',\n",
       "   'HireDate',\n",
       "   'Address',\n",
       "   'City',\n",
       "   'State',\n",
       "   'Country',\n",
       "   'PostalCode',\n",
       "   'Phone',\n",
       "   'Fax',\n",
       "   'Email']},\n",
       " {'table_name': 'genres', 'column_names': ['GenreId', 'Name']},\n",
       " {'table_name': 'invoices',\n",
       "  'column_names': ['InvoiceId',\n",
       "   'CustomerId',\n",
       "   'InvoiceDate',\n",
       "   'BillingAddress',\n",
       "   'BillingCity',\n",
       "   'BillingState',\n",
       "   'BillingCountry',\n",
       "   'BillingPostalCode',\n",
       "   'Total']},\n",
       " {'table_name': 'invoice_items',\n",
       "  'column_names': ['InvoiceLineId',\n",
       "   'InvoiceId',\n",
       "   'TrackId',\n",
       "   'UnitPrice',\n",
       "   'Quantity']},\n",
       " {'table_name': 'media_types', 'column_names': ['MediaTypeId', 'Name']},\n",
       " {'table_name': 'playlists', 'column_names': ['PlaylistId', 'Name']},\n",
       " {'table_name': 'playlist_track', 'column_names': ['PlaylistId', 'TrackId']},\n",
       " {'table_name': 'tracks',\n",
       "  'column_names': ['TrackId',\n",
       "   'Name',\n",
       "   'AlbumId',\n",
       "   'MediaTypeId',\n",
       "   'GenreId',\n",
       "   'Composer',\n",
       "   'Milliseconds',\n",
       "   'Bytes',\n",
       "   'UnitPrice']},\n",
       " {'table_name': 'sqlite_stat1', 'column_names': ['tbl', 'idx', 'stat']}]"
      ]
     },
     "execution_count": 67,
     "metadata": {},
     "output_type": "execute_result"
    }
   ],
   "execution_count": 67
  },
  {
   "metadata": {
    "ExecuteTime": {
     "end_time": "2024-07-10T10:39:24.841298Z",
     "start_time": "2024-07-10T10:39:24.828298Z"
    }
   },
   "cell_type": "code",
   "source": [
    "functions = [\n",
    "    {\n",
    "        \"name\": \"ask_db\",\n",
    "        \"description\": \"Use this function to answer user questions about music. Output should be a fully formed SQL query.\",\n",
    "        \"parameters\": {\n",
    "            \"type\": \"object\",\n",
    "            \"properties\": {\n",
    "                \"query\": {\n",
    "                    \"type\": \"string\",\n",
    "                    \"description\": f\"\"\"\n",
    "                            SQL query extracting info to answer the user's question.\n",
    "                            SQL should be written using this db string:\n",
    "                            {db_string}\n",
    "                            The query should be returned in plain text, not in JSON.\n",
    "                            \"\"\"\n",
    "                }\n",
    "            },\n",
    "            \"required\": [\"query\"]\n",
    "        }\n",
    "    }\n",
    "]"
   ],
   "id": "a578ad413dae0a5c",
   "outputs": [],
   "execution_count": 85
  },
  {
   "metadata": {
    "ExecuteTime": {
     "end_time": "2024-07-10T10:39:25.712100Z",
     "start_time": "2024-07-10T10:39:25.700098Z"
    }
   },
   "cell_type": "code",
   "source": [
    "def ask_db(conn, query):\n",
    "    print(f\"query: {query}\")\n",
    "    try:\n",
    "        results = str(conn.execute(query).fetchall())\n",
    "    except Exception as e:\n",
    "        results = f\"query failed with error: {e}\"\n",
    "    \n",
    "    return results\n",
    "\n",
    "def execute_function_call(message):\n",
    "    if message[\"function_call\"][\"name\"] == \"ask_db\":\n",
    "        \n",
    "        query = json.loads(message[\"function_call\"][\"arguments\"])[\"query\"]\n",
    "        results = ask_db(conn, query)\n",
    "    else:\n",
    "        results = f\"Error: {message['function_call']['name']} does not exist\"\n",
    "        \n",
    "    return results\n",
    "\n"
   ],
   "id": "5bbcd7d95392bbb9",
   "outputs": [],
   "execution_count": 86
  },
  {
   "metadata": {
    "ExecuteTime": {
     "end_time": "2024-07-10T10:39:28.372145Z",
     "start_time": "2024-07-10T10:39:26.495493Z"
    }
   },
   "cell_type": "code",
   "source": [
    "messages = []\n",
    "\n",
    "messages.append({\n",
    "    \"role\": \"system\",\n",
    "    \"content\": \"Answer user questions by generating SQL queries against the Chinook Music Database.\"\n",
    "})\n",
    "\n",
    "messages.append(\n",
    "    {\n",
    "        \"role\": \"user\",\n",
    "        \"content\": \"Hi, who are the top 5 artists by number of tracks?\"\n",
    "    }\n",
    ")\n",
    "\n",
    "chat_response = chat_completion_request(messages, functions)\n",
    "# print(chat_response.json())\n",
    "message = chat_response.json()[\"choices\"][0][\"message\"]\n",
    "\n",
    "\n",
    "messages.append(message)\n",
    "\n",
    "if message.get(\"function_call\"):\n",
    "    results = execute_function_call(message)\n",
    "    messages.append({\"role\": \"function\", \"name\": message[\"function_call\"][\"name\"], \"content\": results})\n",
    "\n",
    "pretty_print_conversation(messages)"
   ],
   "id": "f26676a0f348a652",
   "outputs": [
    {
     "name": "stdout",
     "output_type": "stream",
     "text": [
      "query: SELECT artists.Name, COUNT(tracks.TrackId) AS TrackCount\n",
      "FROM artists\n",
      "JOIN albums ON artists.ArtistId = albums.ArtistId\n",
      "JOIN tracks ON albums.AlbumId = tracks.AlbumId\n",
      "GROUP BY artists.ArtistId\n",
      "ORDER BY TrackCount DESC\n",
      "LIMIT 5;\n",
      "\u001B[31msystem: Answer user questions by generating SQL queries against the Chinook Music Database.\n",
      "\u001B[0m\n",
      "\u001B[32muser: Hi, who are the top 5 artists by number of tracks?\n",
      "\u001B[0m\n",
      "\u001B[34massistant[function_call]: {'name': 'ask_db', 'arguments': '{\"query\":\"SELECT artists.Name, COUNT(tracks.TrackId) AS TrackCount\\\\nFROM artists\\\\nJOIN albums ON artists.ArtistId = albums.ArtistId\\\\nJOIN tracks ON albums.AlbumId = tracks.AlbumId\\\\nGROUP BY artists.ArtistId\\\\nORDER BY TrackCount DESC\\\\nLIMIT 5;\"}'}\n",
      "\u001B[0m\n",
      "\u001B[35mfunction: (ask_db): [('Iron Maiden', 213), ('U2', 135), ('Led Zeppelin', 114), ('Metallica', 112), ('Deep Purple', 92)]\n",
      "\u001B[0m\n"
     ]
    }
   ],
   "execution_count": 87
  },
  {
   "metadata": {
    "ExecuteTime": {
     "end_time": "2024-07-10T10:41:19.934966Z",
     "start_time": "2024-07-10T10:41:19.915943Z"
    }
   },
   "cell_type": "code",
   "source": [
    "query = \"SELECT artists.Name AS Artist, COUNT(tracks.TrackId) AS TrackCount FROM artists\\n JOIN albums ON artists.ArtistId = albums.ArtistId JOIN tracks ON albums.AlbumId = tracks.AlbumId GROUP BY artists.ArtistId ORDER BY TrackCount DESC LIMIT 5;\"\n",
    "ask_db(conn, query)"
   ],
   "id": "b77b381d35f64414",
   "outputs": [
    {
     "name": "stdout",
     "output_type": "stream",
     "text": [
      "query: SELECT artists.Name AS Artist, COUNT(tracks.TrackId) AS TrackCount FROM artists\n",
      " JOIN albums ON artists.ArtistId = albums.ArtistId JOIN tracks ON albums.AlbumId = tracks.AlbumId GROUP BY artists.ArtistId ORDER BY TrackCount DESC LIMIT 5;\n"
     ]
    },
    {
     "data": {
      "text/plain": [
       "\"[('Iron Maiden', 213), ('U2', 135), ('Led Zeppelin', 114), ('Metallica', 112), ('Deep Purple', 92)]\""
      ]
     },
     "execution_count": 90,
     "metadata": {},
     "output_type": "execute_result"
    }
   ],
   "execution_count": 90
  },
  {
   "metadata": {
    "ExecuteTime": {
     "end_time": "2024-07-10T10:43:13.719516Z",
     "start_time": "2024-07-10T10:43:12.229293Z"
    }
   },
   "cell_type": "code",
   "source": [
    "# 向消息列表中添加一个用户的问题，内容是 \"What is the name of the album with the most tracks?\"\n",
    "messages.append({\"role\": \"user\", \"content\": \"What is the name of the album with the most tracks?\"})\n",
    "\n",
    "# 使用 chat_completion_request 函数获取聊天响应\n",
    "chat_response = chat_completion_request(messages, functions)\n",
    "\n",
    "# 从聊天响应中获取助手的消息\n",
    "message = chat_response.json()[\"choices\"][0][\"message\"]\n",
    "\n",
    "# 将助手的消息添加到消息列表中\n",
    "messages.append(message)\n",
    "\n",
    "# 如果助手的消息中有功能调用\n",
    "if message.get(\"function_call\"):\n",
    "    # 使用 execute_function_call 函数执行功能调用，并获取结果\n",
    "    results = execute_function_call(message)\n",
    "    # 将功能的结果作为一个功能角色的消息添加到消息列表中\n",
    "    messages.append({\"role\": \"function\", \"content\": results, \"name\": message[\"function_call\"][\"name\"]})\n",
    "\n",
    "# 使用 pretty_print_conversation 函数打印对话\n",
    "pretty_print_conversation(messages)"
   ],
   "id": "f15fbefac25587c5",
   "outputs": [
    {
     "name": "stdout",
     "output_type": "stream",
     "text": [
      "query: SELECT albums.Title, COUNT(tracks.TrackId) AS TrackCount\n",
      "FROM albums\n",
      "JOIN tracks ON albums.AlbumId = tracks.AlbumId\n",
      "GROUP BY albums.AlbumId\n",
      "ORDER BY TrackCount DESC\n",
      "LIMIT 1;\n",
      "\u001B[31msystem: Answer user questions by generating SQL queries against the Chinook Music Database.\n",
      "\u001B[0m\n",
      "\u001B[32muser: Hi, who are the top 5 artists by number of tracks?\n",
      "\u001B[0m\n",
      "\u001B[34massistant[function_call]: {'name': 'ask_db', 'arguments': '{\"query\":\"SELECT artists.Name, COUNT(tracks.TrackId) AS TrackCount\\\\nFROM artists\\\\nJOIN albums ON artists.ArtistId = albums.ArtistId\\\\nJOIN tracks ON albums.AlbumId = tracks.AlbumId\\\\nGROUP BY artists.ArtistId\\\\nORDER BY TrackCount DESC\\\\nLIMIT 5;\"}'}\n",
      "\u001B[0m\n",
      "\u001B[35mfunction: (ask_db): [('Iron Maiden', 213), ('U2', 135), ('Led Zeppelin', 114), ('Metallica', 112), ('Deep Purple', 92)]\n",
      "\u001B[0m\n",
      "\u001B[32muser: What is the name of the album with the most tracks?\n",
      "\u001B[0m\n",
      "\u001B[34massistant[function_call]: {'name': 'ask_db', 'arguments': '{\"query\":\"SELECT albums.Title, COUNT(tracks.TrackId) AS TrackCount\\\\nFROM albums\\\\nJOIN tracks ON albums.AlbumId = tracks.AlbumId\\\\nGROUP BY albums.AlbumId\\\\nORDER BY TrackCount DESC\\\\nLIMIT 1;\"}'}\n",
      "\u001B[0m\n",
      "\u001B[35mfunction: (ask_db): [('Greatest Hits', 57)]\n",
      "\u001B[0m\n"
     ]
    }
   ],
   "execution_count": 91
  },
  {
   "metadata": {},
   "cell_type": "code",
   "outputs": [],
   "execution_count": null,
   "source": "",
   "id": "7fee4c1a255d4726"
  }
 ],
 "metadata": {
  "kernelspec": {
   "display_name": "Python 3",
   "language": "python",
   "name": "python3"
  },
  "language_info": {
   "codemirror_mode": {
    "name": "ipython",
    "version": 2
   },
   "file_extension": ".py",
   "mimetype": "text/x-python",
   "name": "python",
   "nbconvert_exporter": "python",
   "pygments_lexer": "ipython2",
   "version": "2.7.6"
  }
 },
 "nbformat": 4,
 "nbformat_minor": 5
}
