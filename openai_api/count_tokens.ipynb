{
 "cells": [
  {
   "metadata": {},
   "cell_type": "markdown",
   "source": [
    "# 使用tiktoken计算token数量\n",
    "\n",
    "tiktoken是OpenAI开发的一种BPE分词器。"
   ],
   "id": "dfd2f604b82ad629"
  },
  {
   "metadata": {
    "ExecuteTime": {
     "end_time": "2024-07-10T08:52:49.745136Z",
     "start_time": "2024-07-10T08:52:49.178848Z"
    }
   },
   "cell_type": "code",
   "source": [
    "import tiktoken\n",
    "\n",
    "encoding = tiktoken.get_encoding(\"cl100k_base\")"
   ],
   "id": "9bb97e1610264435",
   "outputs": [],
   "execution_count": 1
  },
  {
   "metadata": {
    "ExecuteTime": {
     "end_time": "2024-07-10T08:53:06.141375Z",
     "start_time": "2024-07-10T08:53:06.117373Z"
    }
   },
   "cell_type": "code",
   "source": "encoding = tiktoken.encoding_for_model(\"gpt-3.5-turbo\")",
   "id": "28646a93cb03f6b",
   "outputs": [],
   "execution_count": 2
  },
  {
   "metadata": {
    "ExecuteTime": {
     "end_time": "2024-07-10T08:53:23.482142Z",
     "start_time": "2024-07-10T08:53:23.462124Z"
    }
   },
   "cell_type": "code",
   "source": "encoding.encode(\"tiktoken is great!\")",
   "id": "b76cf7e0599b066",
   "outputs": [
    {
     "data": {
      "text/plain": [
       "[83, 1609, 5963, 374, 2294, 0]"
      ]
     },
     "execution_count": 3,
     "metadata": {},
     "output_type": "execute_result"
    }
   ],
   "execution_count": 3
  },
  {
   "metadata": {
    "ExecuteTime": {
     "end_time": "2024-07-10T08:55:03.404457Z",
     "start_time": "2024-07-10T08:55:03.380473Z"
    }
   },
   "cell_type": "code",
   "source": [
    "def num_tokens_from_string(string, encoding_name):\n",
    "    encoding = tiktoken.get_encoding(encoding_name)\n",
    "    num_tokens = len(encoding.encode(string))\n",
    "    \n",
    "    return num_tokens"
   ],
   "id": "43d29eb5b9d4454",
   "outputs": [],
   "execution_count": 4
  },
  {
   "metadata": {
    "ExecuteTime": {
     "end_time": "2024-07-10T08:55:16.059336Z",
     "start_time": "2024-07-10T08:55:16.043319Z"
    }
   },
   "cell_type": "code",
   "source": "num_tokens_from_string(\"tiktoken is great!\", \"cl100k_base\")",
   "id": "77189f368f952aeb",
   "outputs": [
    {
     "data": {
      "text/plain": [
       "6"
      ]
     },
     "execution_count": 5,
     "metadata": {},
     "output_type": "execute_result"
    }
   ],
   "execution_count": 5
  },
  {
   "metadata": {
    "ExecuteTime": {
     "end_time": "2024-07-10T08:55:42.390680Z",
     "start_time": "2024-07-10T08:55:42.378035Z"
    }
   },
   "cell_type": "code",
   "source": "encoding.decode([83, 1609, 5963, 374, 2294, 0])",
   "id": "7c7c6e25aded694b",
   "outputs": [
    {
     "data": {
      "text/plain": [
       "'tiktoken is great!'"
      ]
     },
     "execution_count": 6,
     "metadata": {},
     "output_type": "execute_result"
    }
   ],
   "execution_count": 6
  },
  {
   "metadata": {},
   "cell_type": "code",
   "outputs": [],
   "execution_count": null,
   "source": "",
   "id": "65872dfe768a173d"
  }
 ],
 "metadata": {
  "kernelspec": {
   "display_name": "Python 3",
   "language": "python",
   "name": "python3"
  },
  "language_info": {
   "codemirror_mode": {
    "name": "ipython",
    "version": 2
   },
   "file_extension": ".py",
   "mimetype": "text/x-python",
   "name": "python",
   "nbconvert_exporter": "python",
   "pygments_lexer": "ipython2",
   "version": "2.7.6"
  }
 },
 "nbformat": 4,
 "nbformat_minor": 5
}
