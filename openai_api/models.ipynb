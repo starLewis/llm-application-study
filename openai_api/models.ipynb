{
 "cells": [
  {
   "metadata": {},
   "cell_type": "markdown",
   "source": "List Models",
   "id": "ba1fc9545dc5121c"
  },
  {
   "metadata": {
    "ExecuteTime": {
     "end_time": "2024-07-10T07:33:15.695561Z",
     "start_time": "2024-07-10T07:33:13.177861Z"
    }
   },
   "cell_type": "code",
   "source": [
    "import os\n",
    "from openai import OpenAI\n",
    "client = OpenAI()\n",
    "\n",
    "models = client.models.list()\n",
    "print(models)"
   ],
   "id": "be877be240a0235f",
   "outputs": [
    {
     "name": "stdout",
     "output_type": "stream",
     "text": [
      "SyncPage[Model](data=[Model(id='whisper-1', created=1677532384, object='model', owned_by='openai-internal'), Model(id='tts-1', created=1681940951, object='model', owned_by='openai-internal'), Model(id='dall-e-2', created=1698798177, object='model', owned_by='system'), Model(id='tts-1-hd-1106', created=1699053533, object='model', owned_by='system'), Model(id='tts-1-hd', created=1699046015, object='model', owned_by='system'), Model(id='gpt-4-turbo-2024-04-09', created=1712601677, object='model', owned_by='system'), Model(id='gpt-4-turbo', created=1712361441, object='model', owned_by='system'), Model(id='gpt-3.5-turbo-1106', created=1698959748, object='model', owned_by='system'), Model(id='dall-e-3', created=1698785189, object='model', owned_by='system'), Model(id='gpt-4o-2024-05-13', created=1715368132, object='model', owned_by='system'), Model(id='gpt-4-0125-preview', created=1706037612, object='model', owned_by='system'), Model(id='gpt-4o', created=1715367049, object='model', owned_by='system'), Model(id='gpt-4-turbo-preview', created=1706037777, object='model', owned_by='system'), Model(id='text-embedding-3-small', created=1705948997, object='model', owned_by='system'), Model(id='text-embedding-3-large', created=1705953180, object='model', owned_by='system'), Model(id='gpt-3.5-turbo-16k', created=1683758102, object='model', owned_by='openai-internal'), Model(id='gpt-4-1106-preview', created=1698957206, object='model', owned_by='system'), Model(id='gpt-3.5-turbo-16k-0613', created=1685474247, object='model', owned_by='openai'), Model(id='babbage-002', created=1692634615, object='model', owned_by='system'), Model(id='gpt-3.5-turbo-0613', created=1686587434, object='model', owned_by='openai'), Model(id='gpt-4', created=1687882411, object='model', owned_by='openai'), Model(id='gpt-4-0613', created=1686588896, object='model', owned_by='openai'), Model(id='gpt-3.5-turbo-0125', created=1706048358, object='model', owned_by='system'), Model(id='tts-1-1106', created=1699053241, object='model', owned_by='system'), Model(id='gpt-3.5-turbo-0301', created=1677649963, object='model', owned_by='openai'), Model(id='gpt-3.5-turbo', created=1677610602, object='model', owned_by='openai'), Model(id='gpt-3.5-turbo-instruct', created=1692901427, object='model', owned_by='system'), Model(id='gpt-3.5-turbo-instruct-0914', created=1694122472, object='model', owned_by='system'), Model(id='text-embedding-ada-002', created=1671217299, object='model', owned_by='openai-internal'), Model(id='davinci-002', created=1692634301, object='model', owned_by='system'), Model(id='ft:gpt-3.5-turbo-0613:xiaopanai:test:7riDvm2F', created=1693035735, object='model', owned_by='xiaopanai'), Model(id='ft:gpt-3.5-turbo-0613:xiaopanai::7rlYogZj', created=1693048563, object='model', owned_by='xiaopanai')], object='list')\n"
     ]
    }
   ],
   "execution_count": 1
  },
  {
   "metadata": {
    "ExecuteTime": {
     "end_time": "2024-07-10T07:33:47.593326Z",
     "start_time": "2024-07-10T07:33:47.577323Z"
    }
   },
   "cell_type": "code",
   "source": "models.data",
   "id": "b92d82bed50dcfac",
   "outputs": [
    {
     "data": {
      "text/plain": [
       "[Model(id='whisper-1', created=1677532384, object='model', owned_by='openai-internal'),\n",
       " Model(id='tts-1', created=1681940951, object='model', owned_by='openai-internal'),\n",
       " Model(id='dall-e-2', created=1698798177, object='model', owned_by='system'),\n",
       " Model(id='tts-1-hd-1106', created=1699053533, object='model', owned_by='system'),\n",
       " Model(id='tts-1-hd', created=1699046015, object='model', owned_by='system'),\n",
       " Model(id='gpt-4-turbo-2024-04-09', created=1712601677, object='model', owned_by='system'),\n",
       " Model(id='gpt-4-turbo', created=1712361441, object='model', owned_by='system'),\n",
       " Model(id='gpt-3.5-turbo-1106', created=1698959748, object='model', owned_by='system'),\n",
       " Model(id='dall-e-3', created=1698785189, object='model', owned_by='system'),\n",
       " Model(id='gpt-4o-2024-05-13', created=1715368132, object='model', owned_by='system'),\n",
       " Model(id='gpt-4-0125-preview', created=1706037612, object='model', owned_by='system'),\n",
       " Model(id='gpt-4o', created=1715367049, object='model', owned_by='system'),\n",
       " Model(id='gpt-4-turbo-preview', created=1706037777, object='model', owned_by='system'),\n",
       " Model(id='text-embedding-3-small', created=1705948997, object='model', owned_by='system'),\n",
       " Model(id='text-embedding-3-large', created=1705953180, object='model', owned_by='system'),\n",
       " Model(id='gpt-3.5-turbo-16k', created=1683758102, object='model', owned_by='openai-internal'),\n",
       " Model(id='gpt-4-1106-preview', created=1698957206, object='model', owned_by='system'),\n",
       " Model(id='gpt-3.5-turbo-16k-0613', created=1685474247, object='model', owned_by='openai'),\n",
       " Model(id='babbage-002', created=1692634615, object='model', owned_by='system'),\n",
       " Model(id='gpt-3.5-turbo-0613', created=1686587434, object='model', owned_by='openai'),\n",
       " Model(id='gpt-4', created=1687882411, object='model', owned_by='openai'),\n",
       " Model(id='gpt-4-0613', created=1686588896, object='model', owned_by='openai'),\n",
       " Model(id='gpt-3.5-turbo-0125', created=1706048358, object='model', owned_by='system'),\n",
       " Model(id='tts-1-1106', created=1699053241, object='model', owned_by='system'),\n",
       " Model(id='gpt-3.5-turbo-0301', created=1677649963, object='model', owned_by='openai'),\n",
       " Model(id='gpt-3.5-turbo', created=1677610602, object='model', owned_by='openai'),\n",
       " Model(id='gpt-3.5-turbo-instruct', created=1692901427, object='model', owned_by='system'),\n",
       " Model(id='gpt-3.5-turbo-instruct-0914', created=1694122472, object='model', owned_by='system'),\n",
       " Model(id='text-embedding-ada-002', created=1671217299, object='model', owned_by='openai-internal'),\n",
       " Model(id='davinci-002', created=1692634301, object='model', owned_by='system'),\n",
       " Model(id='ft:gpt-3.5-turbo-0613:xiaopanai:test:7riDvm2F', created=1693035735, object='model', owned_by='xiaopanai'),\n",
       " Model(id='ft:gpt-3.5-turbo-0613:xiaopanai::7rlYogZj', created=1693048563, object='model', owned_by='xiaopanai')]"
      ]
     },
     "execution_count": 2,
     "metadata": {},
     "output_type": "execute_result"
    }
   ],
   "execution_count": 2
  },
  {
   "metadata": {
    "ExecuteTime": {
     "end_time": "2024-07-10T07:34:28.486585Z",
     "start_time": "2024-07-10T07:34:28.478585Z"
    }
   },
   "cell_type": "code",
   "source": "models.data[0].id",
   "id": "88e3a0f339349d1a",
   "outputs": [
    {
     "data": {
      "text/plain": [
       "'whisper-1'"
      ]
     },
     "execution_count": 3,
     "metadata": {},
     "output_type": "execute_result"
    }
   ],
   "execution_count": 3
  },
  {
   "metadata": {
    "ExecuteTime": {
     "end_time": "2024-07-10T07:34:49.402323Z",
     "start_time": "2024-07-10T07:34:49.390242Z"
    }
   },
   "cell_type": "code",
   "source": "model_list = [model.id for model in models.data]",
   "id": "7b7ae07b6127567b",
   "outputs": [],
   "execution_count": 4
  },
  {
   "metadata": {
    "ExecuteTime": {
     "end_time": "2024-07-10T07:34:59.611648Z",
     "start_time": "2024-07-10T07:34:59.599644Z"
    }
   },
   "cell_type": "code",
   "source": "print(model_list)",
   "id": "675dc592e9973890",
   "outputs": [
    {
     "name": "stdout",
     "output_type": "stream",
     "text": [
      "['whisper-1', 'tts-1', 'dall-e-2', 'tts-1-hd-1106', 'tts-1-hd', 'gpt-4-turbo-2024-04-09', 'gpt-4-turbo', 'gpt-3.5-turbo-1106', 'dall-e-3', 'gpt-4o-2024-05-13', 'gpt-4-0125-preview', 'gpt-4o', 'gpt-4-turbo-preview', 'text-embedding-3-small', 'text-embedding-3-large', 'gpt-3.5-turbo-16k', 'gpt-4-1106-preview', 'gpt-3.5-turbo-16k-0613', 'babbage-002', 'gpt-3.5-turbo-0613', 'gpt-4', 'gpt-4-0613', 'gpt-3.5-turbo-0125', 'tts-1-1106', 'gpt-3.5-turbo-0301', 'gpt-3.5-turbo', 'gpt-3.5-turbo-instruct', 'gpt-3.5-turbo-instruct-0914', 'text-embedding-ada-002', 'davinci-002', 'ft:gpt-3.5-turbo-0613:xiaopanai:test:7riDvm2F', 'ft:gpt-3.5-turbo-0613:xiaopanai::7rlYogZj']\n"
     ]
    }
   ],
   "execution_count": 5
  },
  {
   "metadata": {},
   "cell_type": "markdown",
   "source": "Retrieve Model",
   "id": "8c05add04f5658f9"
  },
  {
   "metadata": {
    "ExecuteTime": {
     "end_time": "2024-07-10T07:40:07.296366Z",
     "start_time": "2024-07-10T07:40:05.975348Z"
    }
   },
   "cell_type": "code",
   "source": [
    "from openai import OpenAI\n",
    "client = OpenAI()\n",
    "\n",
    "# 将模型ID传入retrieve 接口\n",
    "gpt_3 = client.models.retrieve(\"gpt-3.5-turbo\")"
   ],
   "id": "a5ef09c5f249182a",
   "outputs": [],
   "execution_count": 6
  },
  {
   "metadata": {
    "ExecuteTime": {
     "end_time": "2024-07-10T07:40:13.890859Z",
     "start_time": "2024-07-10T07:40:13.870247Z"
    }
   },
   "cell_type": "code",
   "source": "print(gpt_3)",
   "id": "3e936e79424a1863",
   "outputs": [
    {
     "name": "stdout",
     "output_type": "stream",
     "text": [
      "Model(id='gpt-3.5-turbo', created=1677610602, object='model', owned_by='openai')\n"
     ]
    }
   ],
   "execution_count": 7
  },
  {
   "metadata": {
    "ExecuteTime": {
     "end_time": "2024-07-10T07:41:28.152989Z",
     "start_time": "2024-07-10T07:41:27.459299Z"
    }
   },
   "cell_type": "code",
   "source": "client.models.retrieve(\"gpt-4-0125-preview\")",
   "id": "4b9a64cda2820e70",
   "outputs": [
    {
     "data": {
      "text/plain": [
       "Model(id='gpt-4-0125-preview', created=1706037612, object='model', owned_by='system')"
      ]
     },
     "execution_count": 8,
     "metadata": {},
     "output_type": "execute_result"
    }
   ],
   "execution_count": 8
  },
  {
   "metadata": {},
   "cell_type": "markdown",
   "source": "生成英文文本",
   "id": "485fd5bb563bcdc2"
  },
  {
   "metadata": {
    "ExecuteTime": {
     "end_time": "2024-07-10T07:44:55.728579Z",
     "start_time": "2024-07-10T07:44:54.030738Z"
    }
   },
   "cell_type": "code",
   "source": [
    "from openai import OpenAI\n",
    "client = OpenAI()\n",
    "\n",
    "response = client.completions.create(\n",
    "    model = \"gpt-3.5-turbo-instruct\",\n",
    "    prompt = \"Write a tagline for an ice cream shop.\",\n",
    ")"
   ],
   "id": "51ead2903631842f",
   "outputs": [],
   "execution_count": 9
  },
  {
   "metadata": {
    "ExecuteTime": {
     "end_time": "2024-07-10T07:44:59.961353Z",
     "start_time": "2024-07-10T07:44:59.945260Z"
    }
   },
   "cell_type": "code",
   "source": "print(response)",
   "id": "febf32f1029c312d",
   "outputs": [
    {
     "name": "stdout",
     "output_type": "stream",
     "text": [
      "Completion(id='cmpl-9jMIScDQiSePzm6eb27DCnmiMZqZx', choices=[CompletionChoice(finish_reason='length', index=0, logprobs=None, text='\\n\\n\"Indulge in every scoop, a sweet escape with each droop')], created=1720597496, model='gpt-3.5-turbo-instruct', object='text_completion', system_fingerprint=None, usage=CompletionUsage(completion_tokens=16, prompt_tokens=10, total_tokens=26))\n"
     ]
    }
   ],
   "execution_count": 10
  },
  {
   "metadata": {
    "ExecuteTime": {
     "end_time": "2024-07-10T07:47:56.389050Z",
     "start_time": "2024-07-10T07:47:56.369050Z"
    }
   },
   "cell_type": "code",
   "source": [
    "text = response.choices[0].text\n",
    "print(text)"
   ],
   "id": "a25109ab4757d868",
   "outputs": [
    {
     "name": "stdout",
     "output_type": "stream",
     "text": [
      "\n",
      "\n",
      "\"Indulge in every scoop, a sweet escape with each droop\n"
     ]
    }
   ],
   "execution_count": 11
  },
  {
   "metadata": {},
   "cell_type": "markdown",
   "source": "生成中文文本",
   "id": "8a278e945939b643"
  },
  {
   "metadata": {
    "ExecuteTime": {
     "end_time": "2024-07-10T07:49:55.496217Z",
     "start_time": "2024-07-10T07:49:45.055464Z"
    }
   },
   "cell_type": "code",
   "source": [
    "data = client.completions.create(\n",
    "    model = \"gpt-3.5-turbo-instruct\",\n",
    "    prompt = \"讲10个给程序员听的笑话，使用中文\",\n",
    "    max_tokens=1000,\n",
    "    temperature=0.5\n",
    ")"
   ],
   "id": "a02c8b96fa3492b6",
   "outputs": [],
   "execution_count": 14
  },
  {
   "metadata": {
    "ExecuteTime": {
     "end_time": "2024-07-10T07:49:55.512983Z",
     "start_time": "2024-07-10T07:49:55.497873Z"
    }
   },
   "cell_type": "code",
   "source": [
    "text = data.choices[0].text\n",
    "print(text)"
   ],
   "id": "61cb26eae0999dae",
   "outputs": [
    {
     "name": "stdout",
     "output_type": "stream",
     "text": [
      "\n",
      "\n",
      "1. 为什么程序员喜欢用黑色背景？因为黑色背景可以节省电量，让他们的电脑更耐用。\n",
      "\n",
      "2. 为什么程序员总是喜欢喝咖啡？因为咖啡可以提高他们的代码效率，让他们更有创造力。\n",
      "\n",
      "3. 为什么程序员总是把自己的代码叫做“孩子”？因为他们总是花费大量的时间和精力来养育它们，最终希望它们能够成为优秀的程序。\n",
      "\n",
      "4. 为什么程序员总是喜欢在午夜时分工作？因为那时候没有人会打扰他们，他们可以专心地解决问题。\n",
      "\n",
      "5. 为什么程序员总是喜欢用英文命名变量？因为他们觉得英文变量名更加专业和酷炫。\n",
      "\n",
      "6. 为什么程序员总是喜欢用“Hello World”作为第一个程序？因为这是最简单的程序，但也是最重要的，它代表着一个新的开始。\n",
      "\n",
      "7. 为什么程序员总是喜欢用注释？因为他们知道，过一段时间后，他们自己也会忘记自己写的代码是干什么的。\n",
      "\n",
      "8. 为什么程序员总是喜欢用“debug”来解决问题？因为他们相信，只要找到错误，一切问题都会迎刃而解。\n",
      "\n",
      "9. 为什么程序员总是喜欢用“Ctrl+C”和“Ctrl+V”来复制粘贴？因为这是他们最熟悉的快捷键，可以节省他们的时间和精力。\n",
      "\n",
      "10. 为什么程序员总是喜欢熬夜？因为他们总是想要多做一些事情，挑战自己的极限，而且他们知道，程序不会在白天自己写出来。\n"
     ]
    }
   ],
   "execution_count": 15
  },
  {
   "metadata": {
    "ExecuteTime": {
     "end_time": "2024-07-10T07:50:42.306741Z",
     "start_time": "2024-07-10T07:50:40.227824Z"
    }
   },
   "cell_type": "code",
   "source": [
    "data = client.completions.create(\n",
    "    model = \"gpt-3.5-turbo-instruct\",\n",
    "    prompt = \"生成可执行的快速排序Python代码\",\n",
    "    max_tokens=1000,\n",
    "    temperature=0\n",
    ")"
   ],
   "id": "53c0272db7f539ff",
   "outputs": [],
   "execution_count": 16
  },
  {
   "metadata": {
    "ExecuteTime": {
     "end_time": "2024-07-10T07:50:49.734804Z",
     "start_time": "2024-07-10T07:50:49.722778Z"
    }
   },
   "cell_type": "code",
   "source": [
    "text = data.choices[0].text\n",
    "print(text)"
   ],
   "id": "37e6e224880150ac",
   "outputs": [
    {
     "name": "stdout",
     "output_type": "stream",
     "text": [
      "\n",
      "\n",
      "def quick_sort(arr):\n",
      "    if len(arr) <= 1:\n",
      "        return arr\n",
      "    pivot = arr[0]\n",
      "    left = [x for x in arr[1:] if x <= pivot]\n",
      "    right = [x for x in arr[1:] if x > pivot]\n",
      "    return quick_sort(left) + [pivot] + quick_sort(right)\n"
     ]
    }
   ],
   "execution_count": 17
  },
  {
   "metadata": {
    "ExecuteTime": {
     "end_time": "2024-07-10T07:52:07.010883Z",
     "start_time": "2024-07-10T07:52:07.006991Z"
    }
   },
   "cell_type": "code",
   "source": [
    "# `exec` 函数会执行传入的字符串作为 Python 代码。\n",
    "exec(text)"
   ],
   "id": "37ed0ef3c17dbdf6",
   "outputs": [],
   "execution_count": 19
  },
  {
   "metadata": {
    "ExecuteTime": {
     "end_time": "2024-07-10T07:52:29.271571Z",
     "start_time": "2024-07-10T07:52:29.259549Z"
    }
   },
   "cell_type": "code",
   "source": "print(quick_sort([12, 10, 8, 6, 5, 2, 9, 1, 4, 7]))",
   "id": "49b91e48641ee880",
   "outputs": [
    {
     "name": "stdout",
     "output_type": "stream",
     "text": [
      "[1, 2, 4, 5, 6, 7, 8, 9, 10, 12]\n"
     ]
    }
   ],
   "execution_count": 20
  },
  {
   "metadata": {},
   "cell_type": "markdown",
   "source": "使用多种身份聊天对话",
   "id": "a900b3379fafa8ec"
  },
  {
   "metadata": {
    "ExecuteTime": {
     "end_time": "2024-07-10T07:59:02.543934Z",
     "start_time": "2024-07-10T07:59:00.680315Z"
    }
   },
   "cell_type": "code",
   "source": [
    "messages = [\n",
    "    {\"role\": \"system\", \"content\": \"你是一个乐于助人的体育界专家.\"},\n",
    "    {\"role\": \"user\", \"content\": \"2008年奥运会是在哪里举行的？\"},\n",
    "]\n",
    "\n",
    "from openai import OpenAI\n",
    "client = OpenAI()\n",
    "\n",
    "data = client.chat.completions.create(\n",
    "    model = \"gpt-3.5-turbo\",\n",
    "    messages = messages,\n",
    ")"
   ],
   "id": "b86d30ae99bd73fc",
   "outputs": [],
   "execution_count": 26
  },
  {
   "metadata": {
    "ExecuteTime": {
     "end_time": "2024-07-10T07:59:11.082259Z",
     "start_time": "2024-07-10T07:59:11.070223Z"
    }
   },
   "cell_type": "code",
   "source": [
    "print((data))\n",
    "message = data.choices[0].message.content\n",
    "print(message)"
   ],
   "id": "425a14213d5cdd57",
   "outputs": [
    {
     "name": "stdout",
     "output_type": "stream",
     "text": [
      "ChatCompletion(id='chatcmpl-9jMW7OwqT5it68xEbIqLjeXURx865', choices=[Choice(finish_reason='stop', index=0, logprobs=None, message=ChatCompletionMessage(content='2008年夏季奥运会在中国的北京举行。', role='assistant', function_call=None, tool_calls=None))], created=1720598343, model='gpt-3.5-turbo-0125', object='chat.completion', system_fingerprint=None, usage=CompletionUsage(completion_tokens=19, prompt_tokens=45, total_tokens=64))\n",
      "2008年夏季奥运会在中国的北京举行。\n"
     ]
    }
   ],
   "execution_count": 29
  },
  {
   "metadata": {
    "ExecuteTime": {
     "end_time": "2024-07-10T07:59:02.576232Z",
     "start_time": "2024-07-10T07:59:02.560229Z"
    }
   },
   "cell_type": "code",
   "source": "messages.append({\"role\": \"assistant\", \"content\": message})",
   "id": "b90754e294d9a50",
   "outputs": [],
   "execution_count": 28
  },
  {
   "metadata": {
    "ExecuteTime": {
     "end_time": "2024-07-10T08:00:10.897879Z",
     "start_time": "2024-07-10T08:00:10.877850Z"
    }
   },
   "cell_type": "code",
   "source": "messages.append({\"role\": \"user\", \"content\": \"1. 金牌最多的是哪个国家？ 2.奖牌最多的是哪个国家？\"})",
   "id": "71ad51673b0f33e7",
   "outputs": [],
   "execution_count": 30
  },
  {
   "metadata": {
    "ExecuteTime": {
     "end_time": "2024-07-10T08:00:16.953839Z",
     "start_time": "2024-07-10T08:00:16.933775Z"
    }
   },
   "cell_type": "code",
   "source": "messages",
   "id": "3d1ea94ebc55846",
   "outputs": [
    {
     "data": {
      "text/plain": [
       "[{'role': 'system', 'content': '你是一个乐于助人的体育界专家.'},\n",
       " {'role': 'user', 'content': '2008年奥运会是在哪里举行的？'},\n",
       " {'role': 'assistant', 'content': '2008年夏季奥运会在中国的北京举行。'},\n",
       " {'role': 'user', 'content': '1. 金牌最多的是哪个国家？ 2.奖牌最多的是哪个国家？'}]"
      ]
     },
     "execution_count": 31,
     "metadata": {},
     "output_type": "execute_result"
    }
   ],
   "execution_count": 31
  },
  {
   "metadata": {
    "ExecuteTime": {
     "end_time": "2024-07-10T08:00:36.987723Z",
     "start_time": "2024-07-10T08:00:34.826801Z"
    }
   },
   "cell_type": "code",
   "source": [
    "data = client.chat.completions.create(\n",
    "    model = \"gpt-3.5-turbo\",\n",
    "    messages = messages,\n",
    ")"
   ],
   "id": "6ddb5cdf102283c0",
   "outputs": [],
   "execution_count": 32
  },
  {
   "metadata": {
    "ExecuteTime": {
     "end_time": "2024-07-10T08:01:00.322477Z",
     "start_time": "2024-07-10T08:01:00.302380Z"
    }
   },
   "cell_type": "code",
   "source": [
    "message = data.choices[0].message.content\n",
    "print(message)"
   ],
   "id": "2b2b05260c8c35e",
   "outputs": [
    {
     "name": "stdout",
     "output_type": "stream",
     "text": [
      "1. 2008年夏季奥运会中，金牌最多的国家是中国，共获得51枚金牌。\n",
      "2. 奖牌最多的国家是美国，总共获得110枚奖牌，其中包括36枚金牌、38枚银牌和36枚铜牌。\n"
     ]
    }
   ],
   "execution_count": 33
  },
  {
   "metadata": {},
   "cell_type": "code",
   "outputs": [],
   "execution_count": null,
   "source": "",
   "id": "399f711184223298"
  }
 ],
 "metadata": {
  "kernelspec": {
   "display_name": "Python 3",
   "language": "python",
   "name": "python3"
  },
  "language_info": {
   "codemirror_mode": {
    "name": "ipython",
    "version": 2
   },
   "file_extension": ".py",
   "mimetype": "text/x-python",
   "name": "python",
   "nbconvert_exporter": "python",
   "pygments_lexer": "ipython2",
   "version": "2.7.6"
  }
 },
 "nbformat": 4,
 "nbformat_minor": 5
}
