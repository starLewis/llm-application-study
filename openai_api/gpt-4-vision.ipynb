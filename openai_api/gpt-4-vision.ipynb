{
 "cells": [
  {
   "metadata": {},
   "cell_type": "markdown",
   "source": "使用 GPT-4识别线上图像URL",
   "id": "67606c83439e35e3"
  },
  {
   "metadata": {
    "ExecuteTime": {
     "end_time": "2024-07-10T08:10:31.560202Z",
     "start_time": "2024-07-10T08:10:14.479219Z"
    }
   },
   "cell_type": "code",
   "source": [
    "import base64\n",
    "\n",
    "from openai import OpenAI\n",
    "client = OpenAI()\n",
    "\n",
    "response = client.chat.completions.create(\n",
    "    model = \"gpt-4-turbo\",\n",
    "    messages = [\n",
    "        {\n",
    "            \"role\": \"user\",\n",
    "            \"content\": [\n",
    "                {\"type\": \"text\", \"text\": \"介绍下这幅图?\"},\n",
    "                {\n",
    "                    \"type\": \"image_url\",\n",
    "                    \"image_url\":{\n",
    "                        \"url\": \"https://upload.wikimedia.org/wikipedia/commons/thumb/d/dd/Gfp-wisconsin-madison-the-nature-boardwalk.jpg/2560px-Gfp-wisconsin-madison-the-nature-boardwalk.jpg\"\n",
    "                    }\n",
    "                }\n",
    "            ]\n",
    "        }\n",
    "    ],\n",
    "    max_tokens = 300,\n",
    ")\n",
    "\n",
    "print(response)"
   ],
   "id": "f7e0b525df7d41fa",
   "outputs": [
    {
     "name": "stdout",
     "output_type": "stream",
     "text": [
      "ChatCompletion(id='chatcmpl-9jMh2aSQ4B2xElFnwu1dBKlBrRtXI', choices=[Choice(finish_reason='stop', index=0, logprobs=None, message=ChatCompletionMessage(content='这幅图片展示了一条蜿蜒于郁郁葱葱的绿色草地和灌木丛中的木质步道。天空晴朗，蓝天中散布着几朵白云，给这个场景增添了一种安静和平和的氛围。阳光照亮了步道和周围的植被，使整个景色看起来生机勃勃。这种自然的设置可能是一个公园或自然保护区的一部分，是人们散步或亲近自然的理想地点。整个图像给人一种宁静和远离城市喧嚣的感觉。', role='assistant', function_call=None, tool_calls=None))], created=1720599020, model='gpt-4-turbo-2024-04-09', object='chat.completion', system_fingerprint='fp_7d35882d38', usage=CompletionUsage(completion_tokens=204, prompt_tokens=1121, total_tokens=1325))\n"
     ]
    }
   ],
   "execution_count": 1
  },
  {
   "metadata": {
    "ExecuteTime": {
     "end_time": "2024-07-10T08:15:34.112931Z",
     "start_time": "2024-07-10T08:15:34.096930Z"
    }
   },
   "cell_type": "code",
   "source": "print(response.choices[0].message.content)",
   "id": "e297a95b650f8f92",
   "outputs": [
    {
     "name": "stdout",
     "output_type": "stream",
     "text": [
      "这幅图片展示了一条蜿蜒于郁郁葱葱的绿色草地和灌木丛中的木质步道。天空晴朗，蓝天中散布着几朵白云，给这个场景增添了一种安静和平和的氛围。阳光照亮了步道和周围的植被，使整个景色看起来生机勃勃。这种自然的设置可能是一个公园或自然保护区的一部分，是人们散步或亲近自然的理想地点。整个图像给人一种宁静和远离城市喧嚣的感觉。\n"
     ]
    }
   ],
   "execution_count": 2
  },
  {
   "metadata": {},
   "cell_type": "markdown",
   "source": "封装成一个函数 query image description",
   "id": "8784e158f7cacd6c"
  },
  {
   "metadata": {
    "ExecuteTime": {
     "end_time": "2024-07-10T08:20:32.125740Z",
     "start_time": "2024-07-10T08:20:32.105728Z"
    }
   },
   "cell_type": "code",
   "source": [
    "def query_image_description(url, prompt=\"介绍下这幅图？\"):\n",
    "    client = OpenAI()\n",
    "    \n",
    "    response = client.chat.completions.create(\n",
    "        model = \"gpt-4-turbo\",\n",
    "        messages = [\n",
    "            {\n",
    "                \"role\": \"user\",\n",
    "                \"content\":[\n",
    "                    {\"type\": \"text\", \"text\": prompt},\n",
    "                    {\"type\": \"image_url\", \"image_url\":{\"url\":url}},\n",
    "                ]\n",
    "            }\n",
    "        ],\n",
    "        max_tokens = 1000,\n",
    "    )\n",
    "    \n",
    "    return response.choices[0].message.content"
   ],
   "id": "3bbcfc63325faa0b",
   "outputs": [],
   "execution_count": 5
  },
  {
   "metadata": {
    "ExecuteTime": {
     "end_time": "2024-07-10T08:20:53.240505Z",
     "start_time": "2024-07-10T08:20:33.865812Z"
    }
   },
   "cell_type": "code",
   "source": [
    "image_url = \"https://p6.itc.cn/q_70/images03/20200602/0c267a0d3d814c9783659eb956969ba1.jpeg\"\n",
    "content = query_image_description(image_url)\n",
    "print(content)"
   ],
   "id": "cb0afb0b88ba1b35",
   "outputs": [
    {
     "name": "stdout",
     "output_type": "stream",
     "text": [
      "这幅图是一个搞笑的对比图，左边展示了一只带有巨大肌肉的柴犬，被赋予“16岁的我”和描述符“我刚修完一片地图，身体发育旺盛，人见人爱的大暖男。”右边展示的是一只普通体型的柴犬，被标记为“工作后的我”，描述为“好累好累，好想被触摸，身体素质不行，我就好累小哥哥，脱发严重，求安慰。”\n",
      "\n",
      "这是一种非常常见的幽默表达，用夸张的方式来描述人们在青少年时期和成年后工作压力下的巨大变化。通过对比两种极端的柴犬形象，象征性地表达了很多人对成长和日常生活压力的感受。\n"
     ]
    }
   ],
   "execution_count": 6
  },
  {
   "metadata": {
    "ExecuteTime": {
     "end_time": "2024-07-10T08:32:56.700206Z",
     "start_time": "2024-07-10T08:32:55.331947Z"
    }
   },
   "cell_type": "code",
   "source": [
    "from openai import OpenAI\n",
    "import base64\n",
    "import requests\n",
    "import json\n",
    "\n",
    "client = OpenAI()\n",
    "\n",
    "def query_base64_image_description(image_path, prompt = \"解释下图里的内容？\", max_tokens = 1000):\n",
    "    # 实现base64 编码\n",
    "    def encode_base64(path):\n",
    "        with open(image_path, \"rb\") as f:\n",
    "            return base64.b64encode(f.read()).decode(\"utf-8\")\n",
    "    \n",
    "    # 获取图像的Base64 编码字符串\n",
    "    base64_image = encode_base64(image_path)\n",
    "    \n",
    "    headers = {\n",
    "        \"Content-Type\": \"application/json\",\n",
    "        \"Authorization\": f\"Bearer {client.api_key}\"\n",
    "    }\n",
    "    \n",
    "    payload = {\n",
    "        \"model\": \"gpt-4-turbo\",\n",
    "        \"messages\": [\n",
    "            {\n",
    "                \"role\": \"user\",\n",
    "                \"content\":[\n",
    "                    {\"type\": \"text\", \"text\": prompt},\n",
    "                    {\"type\": \"image_url\", \"image_url\":{\"url\": f\"data:image/jpeg;base64,{base64_image}\"}},\n",
    "                ]\n",
    "            }\n",
    "        ],\n",
    "        \"max_tokens\": max_tokens,\n",
    "    }\n",
    "    \n",
    "    # 发送Http 请求\n",
    "    response = requests.post(\"https://api.openai.com/v1/chat/completions\", headers=headers, json=payload)\n",
    "    \n",
    "    if response.status_code == 200:\n",
    "        response_data = response.json()\n",
    "        content = response_data['choices'][0]['message']['content']\n",
    "        return content\n",
    "    else:\n",
    "        return f\"Error: {response.status_code}, {response.text}\""
   ],
   "id": "d56b0c530b486c7e",
   "outputs": [],
   "execution_count": 9
  },
  {
   "metadata": {
    "ExecuteTime": {
     "end_time": "2024-07-10T08:37:52.218868Z",
     "start_time": "2024-07-10T08:37:34.655680Z"
    }
   },
   "cell_type": "code",
   "source": [
    "content = query_base64_image_description(\"./images/gdp_1980_2020.jpg\")\n",
    "print(content)"
   ],
   "id": "9a46bb7ea1ab8dd4",
   "outputs": [
    {
     "name": "stdout",
     "output_type": "stream",
     "text": [
      "这张图展示的是1980年到2020年期间美国、中国、日本和德国的国内生产总值（GDP）的比较。图中的x轴代表时间（年份），y轴表示GDP总量，单位是万亿美元（Trillion USD）。\n",
      "\n",
      "从图中可以观察到：\n",
      "\n",
      "- 美国的GDP线（蓝色）呈现稳定的增长趋势，从1980年的约3万亿美元增长到2020年的超过20万亿美元。\n",
      "- 中国的GDP线（红色）开始时较低，但从1990年代开始显著上升，特别是2000年后增长迅猛，到2020年接近15万亿美元。\n",
      "- 日本的GDP线（紫色）在1990年代初达到高峰后遇到停滞，之后略有回落，整体保持在5万亿美元左右。\n",
      "- 德国的GDP（绿色）整体呈现缓慢增长的趋势，从1980年的不到1万亿美元增长到2020年的约4万亿美元。\n",
      "\n",
      "总结来说，这张图反映了过去40年中这四个国家经济发展的大致轨迹，其中中国的增长最为显著。\n"
     ]
    }
   ],
   "execution_count": 14
  },
  {
   "metadata": {
    "ExecuteTime": {
     "end_time": "2024-07-10T08:38:58.224993Z",
     "start_time": "2024-07-10T08:38:29.632363Z"
    }
   },
   "cell_type": "code",
   "source": [
    "content = query_base64_image_description(\"./images/handwriting_0.jpg\")\n",
    "print(content)"
   ],
   "id": "1e5a3731b3ac1106",
   "outputs": [
    {
     "name": "stdout",
     "output_type": "stream",
     "text": [
      "这张图片展示的是一本笔记本上的笔记，主题是关于人工智能和机器学习中的各种技术。笔记内容包括：\n",
      "\n",
      "1. **概述了PET技术** - 这可能指的是Prompt Engineering Techniques的缩写，这是一种用来提高语言模型效果的技术。\n",
      "\n",
      "2. **Prompt Tuning (FMT + Small Model)** - 这里描述了Prompt Tuning的概念，强调了其在小模型上的应用。FMT可能是指某种特定的技术或框架。此外，还提到了关于输入`X`经过Embedding转换后得到新的表达式，以及变换后的输出`Y = WX`。\n",
      "\n",
      "3. **Prefix Tuning** - 描述了Prefix Tuning技术，这是一种通过向模型输入添加固定前缀来调整模型的行为的方法。`W' = [Wp; W]`显示了新的权重矩阵是通过前置条件和原始权重矩阵组合而成，其中`Y = W'X`是变换后的输出。\n",
      "\n",
      "4. **LoRA（Low-Rank Adaptation）技术** - 提到了Low-Rank Adaptation如何通过修改权重矩阵`W`来适应模型，使用`ΔW = AB`来描述权重变化，其中`A`和`B`代表低秩矩阵。\n",
      "\n",
      "5. **性能对比** - 笔记的最后提到了两种LoRA技术的运算资源需求：Llama和QLoRA，分别需要78GB和48GB的内存。\n",
      "\n",
      "这些笔记表明作者正在研究或学习高级的机器学习技术，特别是在自然语言处理和模型优化方面。\n"
     ]
    }
   ],
   "execution_count": 16
  },
  {
   "metadata": {
    "ExecuteTime": {
     "end_time": "2024-07-10T08:42:32.232602Z",
     "start_time": "2024-07-10T08:42:32.216610Z"
    }
   },
   "cell_type": "code",
   "source": [
    "from IPython.display import display, Markdown\n",
    "display(Markdown(content))"
   ],
   "id": "d86e06ea26d73da3",
   "outputs": [
    {
     "data": {
      "text/plain": [
       "<IPython.core.display.Markdown object>"
      ],
      "text/markdown": "这张图片展示的是一本笔记本上的笔记，主题是关于人工智能和机器学习中的各种技术。笔记内容包括：\n\n1. **概述了PET技术** - 这可能指的是Prompt Engineering Techniques的缩写，这是一种用来提高语言模型效果的技术。\n\n2. **Prompt Tuning (FMT + Small Model)** - 这里描述了Prompt Tuning的概念，强调了其在小模型上的应用。FMT可能是指某种特定的技术或框架。此外，还提到了关于输入`X`经过Embedding转换后得到新的表达式，以及变换后的输出`Y = WX`。\n\n3. **Prefix Tuning** - 描述了Prefix Tuning技术，这是一种通过向模型输入添加固定前缀来调整模型的行为的方法。`W' = [Wp; W]`显示了新的权重矩阵是通过前置条件和原始权重矩阵组合而成，其中`Y = W'X`是变换后的输出。\n\n4. **LoRA（Low-Rank Adaptation）技术** - 提到了Low-Rank Adaptation如何通过修改权重矩阵`W`来适应模型，使用`ΔW = AB`来描述权重变化，其中`A`和`B`代表低秩矩阵。\n\n5. **性能对比** - 笔记的最后提到了两种LoRA技术的运算资源需求：Llama和QLoRA，分别需要78GB和48GB的内存。\n\n这些笔记表明作者正在研究或学习高级的机器学习技术，特别是在自然语言处理和模型优化方面。"
     },
     "metadata": {},
     "output_type": "display_data"
    }
   ],
   "execution_count": 17
  },
  {
   "metadata": {},
   "cell_type": "code",
   "outputs": [],
   "execution_count": null,
   "source": "",
   "id": "d44f2e712e722e67"
  }
 ],
 "metadata": {
  "kernelspec": {
   "display_name": "Python 3",
   "language": "python",
   "name": "python3"
  },
  "language_info": {
   "codemirror_mode": {
    "name": "ipython",
    "version": 2
   },
   "file_extension": ".py",
   "mimetype": "text/x-python",
   "name": "python",
   "nbconvert_exporter": "python",
   "pygments_lexer": "ipython2",
   "version": "2.7.6"
  }
 },
 "nbformat": 4,
 "nbformat_minor": 5
}
